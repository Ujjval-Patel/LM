{
  "cells": [
    {
      "metadata": {
        "_uuid": "fdc6b5f3ddefaf63a4b7ebf9b432b88d1dc6db87"
      },
      "cell_type": "markdown",
      "source": "# Summary functions and maps workbook\n\n## Introduction\n\nThis is the workbook component to the \"Summary functions and maps\" section of the Advanced Pandas tutorial. For the reference section, [**click here**](https://www.kaggle.com/residentmario/summary-functions-and-maps-reference).\n\nIn the last section we learned how to select relevant data out of our `pandas` `DataFrame` and `Series` objects. Plucking the right data out of our data representation is critical to getting work done, as we demonstrated in the visualization exercises attached to the workbook.\n\nHowever, the data does not always come out of memory in the format we want it in right out of the bat. Sometimes we have to do some more work ourselves to reformat it for the task at hand.\n\nThe remainder of this tutorial will cover different operations we can apply to our data to get the input \"just right\". We'll start off in this section by looking at the most commonly looked built-in reshaping operations. Along the way we'll cover data `dtypes`, a concept essential to working with `pandas` effectively."
    },
    {
      "metadata": {
        "trusted": true,
        "_uuid": "ae1599329938691a94ecc96cfca7ba598944d612"
      },
      "cell_type": "code",
      "source": "import pandas as pd\npd.set_option(\"display.max_rows\", 5)\nreviews = pd.read_csv(\"../input/wine-reviews/winemag-data-130k-v2.csv\", index_col=0)\n\nfrom learntools.core import binder; binder.bind(globals())\nfrom learntools.pandas.summary_functions_and_maps import *\nprint(\"Setup complete.\")\n\nreviews.head()",
      "execution_count": 1,
      "outputs": [
        {
          "output_type": "stream",
          "text": "Setup complete.\n",
          "name": "stdout"
        },
        {
          "output_type": "execute_result",
          "execution_count": 1,
          "data": {
            "text/plain": "    country         ...                        winery\n0     Italy         ...                       Nicosia\n1  Portugal         ...           Quinta dos Avidagos\n2        US         ...                     Rainstorm\n3        US         ...                    St. Julian\n4        US         ...                  Sweet Cheeks\n\n[5 rows x 13 columns]",
            "text/html": "<div>\n<style scoped>\n    .dataframe tbody tr th:only-of-type {\n        vertical-align: middle;\n    }\n\n    .dataframe tbody tr th {\n        vertical-align: top;\n    }\n\n    .dataframe thead th {\n        text-align: right;\n    }\n</style>\n<table border=\"1\" class=\"dataframe\">\n  <thead>\n    <tr style=\"text-align: right;\">\n      <th></th>\n      <th>country</th>\n      <th>description</th>\n      <th>designation</th>\n      <th>points</th>\n      <th>price</th>\n      <th>province</th>\n      <th>region_1</th>\n      <th>region_2</th>\n      <th>taster_name</th>\n      <th>taster_twitter_handle</th>\n      <th>title</th>\n      <th>variety</th>\n      <th>winery</th>\n    </tr>\n  </thead>\n  <tbody>\n    <tr>\n      <th>0</th>\n      <td>Italy</td>\n      <td>Aromas include tropical fruit, broom, brimston...</td>\n      <td>Vulkà Bianco</td>\n      <td>87</td>\n      <td>NaN</td>\n      <td>Sicily &amp; Sardinia</td>\n      <td>Etna</td>\n      <td>NaN</td>\n      <td>Kerin O’Keefe</td>\n      <td>@kerinokeefe</td>\n      <td>Nicosia 2013 Vulkà Bianco  (Etna)</td>\n      <td>White Blend</td>\n      <td>Nicosia</td>\n    </tr>\n    <tr>\n      <th>1</th>\n      <td>Portugal</td>\n      <td>This is ripe and fruity, a wine that is smooth...</td>\n      <td>Avidagos</td>\n      <td>87</td>\n      <td>15.0</td>\n      <td>Douro</td>\n      <td>NaN</td>\n      <td>NaN</td>\n      <td>Roger Voss</td>\n      <td>@vossroger</td>\n      <td>Quinta dos Avidagos 2011 Avidagos Red (Douro)</td>\n      <td>Portuguese Red</td>\n      <td>Quinta dos Avidagos</td>\n    </tr>\n    <tr>\n      <th>2</th>\n      <td>US</td>\n      <td>Tart and snappy, the flavors of lime flesh and...</td>\n      <td>NaN</td>\n      <td>87</td>\n      <td>14.0</td>\n      <td>Oregon</td>\n      <td>Willamette Valley</td>\n      <td>Willamette Valley</td>\n      <td>Paul Gregutt</td>\n      <td>@paulgwine</td>\n      <td>Rainstorm 2013 Pinot Gris (Willamette Valley)</td>\n      <td>Pinot Gris</td>\n      <td>Rainstorm</td>\n    </tr>\n    <tr>\n      <th>3</th>\n      <td>US</td>\n      <td>Pineapple rind, lemon pith and orange blossom ...</td>\n      <td>Reserve Late Harvest</td>\n      <td>87</td>\n      <td>13.0</td>\n      <td>Michigan</td>\n      <td>Lake Michigan Shore</td>\n      <td>NaN</td>\n      <td>Alexander Peartree</td>\n      <td>NaN</td>\n      <td>St. Julian 2013 Reserve Late Harvest Riesling ...</td>\n      <td>Riesling</td>\n      <td>St. Julian</td>\n    </tr>\n    <tr>\n      <th>4</th>\n      <td>US</td>\n      <td>Much like the regular bottling from 2012, this...</td>\n      <td>Vintner's Reserve Wild Child Block</td>\n      <td>87</td>\n      <td>65.0</td>\n      <td>Oregon</td>\n      <td>Willamette Valley</td>\n      <td>Willamette Valley</td>\n      <td>Paul Gregutt</td>\n      <td>@paulgwine</td>\n      <td>Sweet Cheeks 2012 Vintner's Reserve Wild Child...</td>\n      <td>Pinot Noir</td>\n      <td>Sweet Cheeks</td>\n    </tr>\n  </tbody>\n</table>\n</div>"
          },
          "metadata": {}
        }
      ]
    },
    {
      "metadata": {
        "_uuid": "00a44c607c70a6411aa832b276a64381f2b24e96"
      },
      "cell_type": "markdown",
      "source": "## Exercises"
    },
    {
      "metadata": {
        "_uuid": "e06c033b33324335d45b43a48bb012b0bc5d362b"
      },
      "cell_type": "markdown",
      "source": "**Exercise 1**: What is the median of the `points` column?**"
    },
    {
      "metadata": {
        "trusted": true,
        "_uuid": "7b5fd6ebb04d0fb8c5eac6fab0b264b425bb79af"
      },
      "cell_type": "code",
      "source": "median_points = reviews.points.median()\n\nq1.check()",
      "execution_count": 8,
      "outputs": [
        {
          "output_type": "display_data",
          "data": {
            "text/plain": "<IPython.core.display.Javascript object>",
            "application/javascript": "parent.postMessage({\"jupyterEvent\": \"custom.exercise_interaction\", \"data\": {\"outcomeType\": 1, \"valueTowardsCompletion\": 0.14285714285714285, \"interactionType\": 1, \"learnTutorialId\": 47, \"questionId\": \"1_MedianPoints\", \"learnToolsVersion\": \"0.2.9\", \"failureMessage\": \"\", \"exceptionClass\": \"\", \"trace\": \"\"}}, \"*\")"
          },
          "metadata": {}
        },
        {
          "output_type": "display_data",
          "data": {
            "text/plain": "Correct",
            "text/markdown": "<span style=\"color:#33cc33\">Correct</span>"
          },
          "metadata": {}
        }
      ]
    },
    {
      "metadata": {
        "trusted": true,
        "_uuid": "1850345bbbf9342bc5a2116a260ba73c71052a42"
      },
      "cell_type": "code",
      "source": "# Uncomment the line below to see a solution\nq1.solution()",
      "execution_count": 4,
      "outputs": [
        {
          "output_type": "display_data",
          "data": {
            "text/plain": "<IPython.core.display.Javascript object>",
            "application/javascript": "parent.postMessage({\"jupyterEvent\": \"custom.exercise_interaction\", \"data\": {\"interactionType\": 3, \"learnTutorialId\": 47, \"questionId\": \"1_MedianPoints\", \"learnToolsVersion\": \"0.2.9\", \"valueTowardsCompletion\": 0.0, \"failureMessage\": \"\", \"exceptionClass\": \"\", \"trace\": \"\", \"outcomeType\": 4}}, \"*\")"
          },
          "metadata": {}
        },
        {
          "output_type": "display_data",
          "data": {
            "text/plain": "Solution: \n```python\nmedian_points = reviews.points.median()\n```",
            "text/markdown": "<span style=\"color:#33cc99\">Solution:</span> \n```python\nmedian_points = reviews.points.median()\n```"
          },
          "metadata": {}
        }
      ]
    },
    {
      "metadata": {
        "_uuid": "b6a0d7c74ddf842d58664718d0056397d5afdddd"
      },
      "cell_type": "markdown",
      "source": "**Exercise 2**: What countries are represented in the dataset? (Your answer should not include any duplicates)"
    },
    {
      "metadata": {
        "trusted": true,
        "_uuid": "1c398bed6d7b4e41f449a73e734717fbebee9568"
      },
      "cell_type": "code",
      "source": "countries = reviews.country.unique()\n\nq2.check()",
      "execution_count": 10,
      "outputs": [
        {
          "output_type": "display_data",
          "data": {
            "text/plain": "<IPython.core.display.Javascript object>",
            "application/javascript": "parent.postMessage({\"jupyterEvent\": \"custom.exercise_interaction\", \"data\": {\"outcomeType\": 1, \"valueTowardsCompletion\": 0.14285714285714285, \"interactionType\": 1, \"learnTutorialId\": 47, \"questionId\": \"2_UniqueCountries\", \"learnToolsVersion\": \"0.2.9\", \"failureMessage\": \"\", \"exceptionClass\": \"\", \"trace\": \"\"}}, \"*\")"
          },
          "metadata": {}
        },
        {
          "output_type": "display_data",
          "data": {
            "text/plain": "Correct",
            "text/markdown": "<span style=\"color:#33cc33\">Correct</span>"
          },
          "metadata": {}
        }
      ]
    },
    {
      "metadata": {
        "trusted": false,
        "_uuid": "2ed29cb35441322bfbbaab6473c448ef67811c39"
      },
      "cell_type": "code",
      "source": "#q2.solution()",
      "execution_count": null,
      "outputs": []
    },
    {
      "metadata": {
        "_uuid": "65af4fd5def1f6aeb3a96ced4702a47b495e8b39"
      },
      "cell_type": "markdown",
      "source": "**Exercise 3**: How often does each country appear in the dataset? Create a Series `reviews_per_country` mapping countries to the count of reviews of wines from that country."
    },
    {
      "metadata": {
        "trusted": true,
        "_uuid": "c4fe9adc16c5305f0062f8d1e415800777ad1671"
      },
      "cell_type": "code",
      "source": "reviews_per_country = reviews.country.value_counts()\n\nq3.check()",
      "execution_count": 12,
      "outputs": [
        {
          "output_type": "display_data",
          "data": {
            "text/plain": "<IPython.core.display.Javascript object>",
            "application/javascript": "parent.postMessage({\"jupyterEvent\": \"custom.exercise_interaction\", \"data\": {\"outcomeType\": 1, \"valueTowardsCompletion\": 0.14285714285714285, \"interactionType\": 1, \"learnTutorialId\": 47, \"questionId\": \"3_ReviewsPerCountry\", \"learnToolsVersion\": \"0.2.9\", \"failureMessage\": \"\", \"exceptionClass\": \"\", \"trace\": \"\"}}, \"*\")"
          },
          "metadata": {}
        },
        {
          "output_type": "display_data",
          "data": {
            "text/plain": "Correct",
            "text/markdown": "<span style=\"color:#33cc33\">Correct</span>"
          },
          "metadata": {}
        }
      ]
    },
    {
      "metadata": {
        "trusted": true,
        "_uuid": "a304174145854fc8319a99c9bb93bde54abfc725"
      },
      "cell_type": "code",
      "source": "q3.solution()",
      "execution_count": 11,
      "outputs": [
        {
          "output_type": "display_data",
          "data": {
            "text/plain": "<IPython.core.display.Javascript object>",
            "application/javascript": "parent.postMessage({\"jupyterEvent\": \"custom.exercise_interaction\", \"data\": {\"interactionType\": 3, \"learnTutorialId\": 47, \"questionId\": \"3_ReviewsPerCountry\", \"learnToolsVersion\": \"0.2.9\", \"valueTowardsCompletion\": 0.0, \"failureMessage\": \"\", \"exceptionClass\": \"\", \"trace\": \"\", \"outcomeType\": 4}}, \"*\")"
          },
          "metadata": {}
        },
        {
          "output_type": "display_data",
          "data": {
            "text/plain": "Solution: \n```python\nreviews_per_country = reviews.country.value_counts()\n```",
            "text/markdown": "<span style=\"color:#33cc99\">Solution:</span> \n```python\nreviews_per_country = reviews.country.value_counts()\n```"
          },
          "metadata": {}
        }
      ]
    },
    {
      "metadata": {
        "_uuid": "cfc24f5b7f5a20a5b94f24c505d7e31cf70d4173"
      },
      "cell_type": "markdown",
      "source": "**Exercise 4**: Create variable `centered_price` containing a version of the `price` column with the mean price subtracted.\n\n(Note: this 'centering' transformation is a common preprocessing step before applying various machine learning algorithms.) "
    },
    {
      "metadata": {
        "trusted": true,
        "_uuid": "5d62baa36729ec22347b96f39f6faef269e3adc2"
      },
      "cell_type": "code",
      "source": "centered_price = reviews.price - reviews.price.mean()\n\nq4.check()",
      "execution_count": 14,
      "outputs": [
        {
          "output_type": "display_data",
          "data": {
            "text/plain": "<IPython.core.display.Javascript object>",
            "application/javascript": "parent.postMessage({\"jupyterEvent\": \"custom.exercise_interaction\", \"data\": {\"outcomeType\": 1, \"valueTowardsCompletion\": 0.14285714285714285, \"interactionType\": 1, \"learnTutorialId\": 47, \"questionId\": \"4_CenteredPrice\", \"learnToolsVersion\": \"0.2.9\", \"failureMessage\": \"\", \"exceptionClass\": \"\", \"trace\": \"\"}}, \"*\")"
          },
          "metadata": {}
        },
        {
          "output_type": "display_data",
          "data": {
            "text/plain": "Correct",
            "text/markdown": "<span style=\"color:#33cc33\">Correct</span>"
          },
          "metadata": {}
        }
      ]
    },
    {
      "metadata": {
        "trusted": false,
        "_uuid": "39b32366e3513c89e36ce73841916169c4c50957"
      },
      "cell_type": "code",
      "source": "#q4.solution()",
      "execution_count": null,
      "outputs": []
    },
    {
      "metadata": {
        "_uuid": "a1f22665e05e3ac7d8469868c0200bb7bd2c1b07"
      },
      "cell_type": "markdown",
      "source": "**Exercise 5**: I'm an economical wine buyer. Which wine is the \"best bargain\"? Create a variable `bargain_wine` with the title of the wine with the highest points-to-price ratio in the dataset.\n\nHint: the [`idxmax` method](https://pandas.pydata.org/pandas-docs/stable/generated/pandas.Series.idxmax.html) may be useful here."
    },
    {
      "metadata": {
        "trusted": true,
        "_uuid": "f7580c4f141d1c402dbaaf844d5faa3f34061ac3"
      },
      "cell_type": "code",
      "source": "bargain_index = ( reviews.points / reviews.price ).idxmax()\nbargain_wine = reviews.loc[bargain_index , 'title']\n\nq5.check()",
      "execution_count": 17,
      "outputs": [
        {
          "output_type": "display_data",
          "data": {
            "text/plain": "<IPython.core.display.Javascript object>",
            "application/javascript": "parent.postMessage({\"jupyterEvent\": \"custom.exercise_interaction\", \"data\": {\"outcomeType\": 1, \"valueTowardsCompletion\": 0.14285714285714285, \"interactionType\": 1, \"learnTutorialId\": 47, \"questionId\": \"5_BargainWine\", \"learnToolsVersion\": \"0.2.9\", \"failureMessage\": \"\", \"exceptionClass\": \"\", \"trace\": \"\"}}, \"*\")"
          },
          "metadata": {}
        },
        {
          "output_type": "display_data",
          "data": {
            "text/plain": "Correct",
            "text/markdown": "<span style=\"color:#33cc33\">Correct</span>"
          },
          "metadata": {}
        }
      ]
    },
    {
      "metadata": {
        "trusted": true,
        "_uuid": "38af1398fecbbf32282f01cb5b3ad59314b6cd56"
      },
      "cell_type": "code",
      "source": "q5.solution()",
      "execution_count": 16,
      "outputs": [
        {
          "output_type": "display_data",
          "data": {
            "text/plain": "<IPython.core.display.Javascript object>",
            "application/javascript": "parent.postMessage({\"jupyterEvent\": \"custom.exercise_interaction\", \"data\": {\"interactionType\": 3, \"learnTutorialId\": 47, \"questionId\": \"5_BargainWine\", \"learnToolsVersion\": \"0.2.9\", \"valueTowardsCompletion\": 0.0, \"failureMessage\": \"\", \"exceptionClass\": \"\", \"trace\": \"\", \"outcomeType\": 4}}, \"*\")"
          },
          "metadata": {}
        },
        {
          "output_type": "display_data",
          "data": {
            "text/plain": "Solution: \n```python\nbargain_idx = (reviews.points / reviews.price).idxmax()\nbargain_wine = reviews.loc[bargain_idx, 'title']\n```",
            "text/markdown": "<span style=\"color:#33cc99\">Solution:</span> \n```python\nbargain_idx = (reviews.points / reviews.price).idxmax()\nbargain_wine = reviews.loc[bargain_idx, 'title']\n```"
          },
          "metadata": {}
        }
      ]
    },
    {
      "metadata": {
        "_uuid": "6f4b938b837044b2a39d9a04100510dccf049235"
      },
      "cell_type": "markdown",
      "source": "**Exercise 6**: There are only so many words you can use when describing a bottle of wine. Is a wine more likely to be \"tropical\" or \"fruity\"? Create a Series `descriptor_counts` counting how many times each of these two words appears in the `description` column in the dataset.\n\nHint: use a map to check each description for the string `tropical`, then count up the number of times this is `True`. Repeat this for `fruity`. Create a `Series` combining the two values at the end."
    },
    {
      "metadata": {
        "trusted": true,
        "_uuid": "98d7b850f8ca6b7544fed7cb86f8d2c515b78500"
      },
      "cell_type": "code",
      "source": "n_trop = reviews.description.map(lambda desc: 'tropical' in desc).sum()\nn_fruity = reviews.description.map(lambda desc: 'fruity' in desc).sum()\ndescriptor_counts = pd.Series([n_trop, n_fruity], index=['tropical', 'fruity'])\n\nq6.check()",
      "execution_count": 22,
      "outputs": [
        {
          "output_type": "display_data",
          "data": {
            "text/plain": "<IPython.core.display.Javascript object>",
            "application/javascript": "parent.postMessage({\"jupyterEvent\": \"custom.exercise_interaction\", \"data\": {\"outcomeType\": 1, \"valueTowardsCompletion\": 0.14285714285714285, \"interactionType\": 1, \"learnTutorialId\": 47, \"questionId\": \"6_DescriptorCounts\", \"learnToolsVersion\": \"0.2.9\", \"failureMessage\": \"\", \"exceptionClass\": \"\", \"trace\": \"\"}}, \"*\")"
          },
          "metadata": {}
        },
        {
          "output_type": "display_data",
          "data": {
            "text/plain": "Correct",
            "text/markdown": "<span style=\"color:#33cc33\">Correct</span>"
          },
          "metadata": {}
        }
      ]
    },
    {
      "metadata": {
        "trusted": true,
        "_uuid": "da581e262878b5a224f9edaf1248e277edd791df"
      },
      "cell_type": "code",
      "source": "q6.solution()",
      "execution_count": 21,
      "outputs": [
        {
          "output_type": "display_data",
          "data": {
            "text/plain": "<IPython.core.display.Javascript object>",
            "application/javascript": "parent.postMessage({\"jupyterEvent\": \"custom.exercise_interaction\", \"data\": {\"interactionType\": 3, \"learnTutorialId\": 47, \"questionId\": \"6_DescriptorCounts\", \"learnToolsVersion\": \"0.2.9\", \"valueTowardsCompletion\": 0.0, \"failureMessage\": \"\", \"exceptionClass\": \"\", \"trace\": \"\", \"outcomeType\": 4}}, \"*\")"
          },
          "metadata": {}
        },
        {
          "output_type": "display_data",
          "data": {
            "text/plain": "Solution: \n```python\nn_trop = reviews.description.map(lambda desc: \"tropical\" in desc).sum()\nn_fruity = reviews.description.map(lambda desc: \"fruity\" in desc).sum()\ndescriptor_counts = pd.Series([n_trop, n_fruity], index=['tropical', 'fruity'])\n```",
            "text/markdown": "<span style=\"color:#33cc99\">Solution:</span> \n```python\nn_trop = reviews.description.map(lambda desc: \"tropical\" in desc).sum()\nn_fruity = reviews.description.map(lambda desc: \"fruity\" in desc).sum()\ndescriptor_counts = pd.Series([n_trop, n_fruity], index=['tropical', 'fruity'])\n```"
          },
          "metadata": {}
        }
      ]
    },
    {
      "metadata": {
        "_uuid": "0c4c79bbf1f634d1361efd4f2bbc742357b4331a"
      },
      "cell_type": "markdown",
      "source": "**Exercise 7**: We'd like to host these wine reviews on our website, but a rating system ranging from 80 to 100 points is too hard to understand - we'd like to translate them into simple star ratings. A score of 95 or higher counts as 3 stars, a score of at least 85 but less than 95 is 2 stars. Any other score is 1 star.\n\nAlso, the Canadian Vintners Association bought a lot of ads on the site, so any wines from Canada should automatically get 3 stars, regardless of points.\n\nCreate a series `star_ratings` with the number of stars corresponding to each review in the dataset."
    },
    {
      "metadata": {
        "trusted": true,
        "_uuid": "2b895d854bd0424006aeb0c294a52db3173a3a87"
      },
      "cell_type": "code",
      "source": "def stars(row):\n    if row.country == 'Canada':\n        return 3\n    elif row.points >= 95:\n        return 3\n    elif row.points >= 85:\n        return 2\n    else:\n        return 1\nstar_ratings = reviews.apply(stars , axis= 'columns')\n\nq7.check()",
      "execution_count": null,
      "outputs": []
    },
    {
      "metadata": {
        "trusted": true,
        "_uuid": "f02df533056e658ef250efd350543cee7adf601f"
      },
      "cell_type": "code",
      "source": "q7.solution()",
      "execution_count": 23,
      "outputs": [
        {
          "output_type": "display_data",
          "data": {
            "text/plain": "<IPython.core.display.Javascript object>",
            "application/javascript": "parent.postMessage({\"jupyterEvent\": \"custom.exercise_interaction\", \"data\": {\"interactionType\": 3, \"learnTutorialId\": 47, \"questionId\": \"7_StarRatings\", \"learnToolsVersion\": \"0.2.9\", \"valueTowardsCompletion\": 0.0, \"failureMessage\": \"\", \"exceptionClass\": \"\", \"trace\": \"\", \"outcomeType\": 4}}, \"*\")"
          },
          "metadata": {}
        },
        {
          "output_type": "display_data",
          "data": {
            "text/plain": "Solution: \n```python\ndef stars(row):\n    if row.country == 'Canada':\n        return 3\n    elif row.points >= 95:\n        return 3\n    elif row.points >= 85:\n        return 2\n    else:\n        return 1\n    \nstar_ratings = reviews.apply(stars, axis='columns')\n```",
            "text/markdown": "<span style=\"color:#33cc99\">Solution:</span> \n```python\ndef stars(row):\n    if row.country == 'Canada':\n        return 3\n    elif row.points >= 95:\n        return 3\n    elif row.points >= 85:\n        return 2\n    else:\n        return 1\n    \nstar_ratings = reviews.apply(stars, axis='columns')\n```"
          },
          "metadata": {}
        }
      ]
    },
    {
      "metadata": {
        "_uuid": "952f7f82eceb9d27704338532ca8423fd149c545"
      },
      "cell_type": "markdown",
      "source": "# Keep going\n**[Continue to grouping and sorting](https://www.kaggle.com/residentmario/grouping-and-sorting-workbook).**"
    }
  ],
  "metadata": {
    "kernelspec": {
      "display_name": "Python 3",
      "language": "python",
      "name": "python3"
    },
    "language_info": {
      "name": "python",
      "version": "3.6.6",
      "mimetype": "text/x-python",
      "codemirror_mode": {
        "name": "ipython",
        "version": 3
      },
      "pygments_lexer": "ipython3",
      "nbconvert_exporter": "python",
      "file_extension": ".py"
    }
  },
  "nbformat": 4,
  "nbformat_minor": 1
}
