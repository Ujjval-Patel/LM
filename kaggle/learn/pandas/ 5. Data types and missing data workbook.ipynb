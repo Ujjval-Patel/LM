{
  "cells": [
    {
      "metadata": {
        "collapsed": true,
        "_uuid": "f977db4e9140ccb13cbeed1458d6478428bf9ac2"
      },
      "cell_type": "markdown",
      "source": "# Data types and missing data workbook\n\n## Introduction\n\nThis is the workbook component of the \"Data types and missing data\" section of the tutorial.\n\n# Relevant Resources\n- [Data Types and Missing Data Reference](https://www.kaggle.com/residentmario/data-types-and-missing-data-reference)\n\n# Set Up\n\nRun the following cell to load your data and some utility functions"
    },
    {
      "metadata": {
        "trusted": true,
        "_uuid": "ee1d4caf2137c43a1e2bb61ed69f0e918ec05314"
      },
      "cell_type": "code",
      "source": "import pandas as pd\n\nreviews = pd.read_csv(\"../input/wine-reviews/winemag-data-130k-v2.csv\", index_col=0)\n\nfrom learntools.core import binder; binder.bind(globals())\nfrom learntools.pandas.data_types_and_missing_data import *\nprint(\"Setup complete.\")",
      "execution_count": 1,
      "outputs": [
        {
          "output_type": "stream",
          "text": "Setup complete.\n",
          "name": "stdout"
        }
      ]
    },
    {
      "metadata": {
        "_uuid": "6c966f18913bbb92ab2153d6b76ca2506beccc80"
      },
      "cell_type": "markdown",
      "source": "# Exercises"
    },
    {
      "metadata": {
        "_uuid": "0e77f69a22f81fe9e0bd7de6d72c1f1c8e93ba0c"
      },
      "cell_type": "markdown",
      "source": "**Exercise 1**: What is the data type of the `points` column in the dataset?"
    },
    {
      "metadata": {
        "trusted": true,
        "_uuid": "82d611cfadc9d5fe613711235c2fe0b8d66edc30"
      },
      "cell_type": "code",
      "source": "# Your code here\ndtype = reviews.points.dtype\n\nq1.check()",
      "execution_count": 3,
      "outputs": [
        {
          "output_type": "display_data",
          "data": {
            "text/plain": "<IPython.core.display.Javascript object>",
            "application/javascript": "parent.postMessage({\"jupyterEvent\": \"custom.exercise_interaction\", \"data\": {\"outcomeType\": 1, \"valueTowardsCompletion\": 0.25, \"interactionType\": 1, \"learnTutorialId\": 49, \"questionId\": \"1_PointsDtype\", \"learnToolsVersion\": \"0.2.9\", \"failureMessage\": \"\", \"exceptionClass\": \"\", \"trace\": \"\"}}, \"*\")"
          },
          "metadata": {}
        },
        {
          "output_type": "display_data",
          "data": {
            "text/plain": "Correct",
            "text/markdown": "<span style=\"color:#33cc33\">Correct</span>"
          },
          "metadata": {}
        }
      ]
    },
    {
      "metadata": {
        "trusted": true,
        "_uuid": "0c1e14b4b6cd17010b8e3c3f4051b131d51148db"
      },
      "cell_type": "code",
      "source": "q1.solution()",
      "execution_count": 2,
      "outputs": [
        {
          "output_type": "display_data",
          "data": {
            "text/plain": "<IPython.core.display.Javascript object>",
            "application/javascript": "parent.postMessage({\"jupyterEvent\": \"custom.exercise_interaction\", \"data\": {\"interactionType\": 3, \"learnTutorialId\": 49, \"questionId\": \"1_PointsDtype\", \"learnToolsVersion\": \"0.2.9\", \"valueTowardsCompletion\": 0.0, \"failureMessage\": \"\", \"exceptionClass\": \"\", \"trace\": \"\", \"outcomeType\": 4}}, \"*\")"
          },
          "metadata": {}
        },
        {
          "output_type": "display_data",
          "data": {
            "text/plain": "Solution: \n```python\ndtype = reviews.points.dtype\n```",
            "text/markdown": "<span style=\"color:#33cc99\">Solution:</span> \n```python\ndtype = reviews.points.dtype\n```"
          },
          "metadata": {}
        }
      ]
    },
    {
      "metadata": {
        "_uuid": "3c66a41ccaabb9a839978c9f4eb15b1646469afe"
      },
      "cell_type": "markdown",
      "source": "**Exercise 2**: Create a `Series` from entries in the `price` column, but convert the entries to strings. Hint: strings are `str` in native Python."
    },
    {
      "metadata": {
        "trusted": true,
        "_uuid": "b41652fcb491c3087b27c6bf9797d29c2c2060a7"
      },
      "cell_type": "code",
      "source": "point_strings = reviews.points.astype(str)\n\nq2.check()",
      "execution_count": 5,
      "outputs": [
        {
          "output_type": "display_data",
          "data": {
            "text/plain": "<IPython.core.display.Javascript object>",
            "application/javascript": "parent.postMessage({\"jupyterEvent\": \"custom.exercise_interaction\", \"data\": {\"outcomeType\": 1, \"valueTowardsCompletion\": 0.25, \"interactionType\": 1, \"learnTutorialId\": 49, \"questionId\": \"2_StrPoints\", \"learnToolsVersion\": \"0.2.9\", \"failureMessage\": \"\", \"exceptionClass\": \"\", \"trace\": \"\"}}, \"*\")"
          },
          "metadata": {}
        },
        {
          "output_type": "display_data",
          "data": {
            "text/plain": "Correct",
            "text/markdown": "<span style=\"color:#33cc33\">Correct</span>"
          },
          "metadata": {}
        }
      ]
    },
    {
      "metadata": {
        "trusted": true,
        "_uuid": "50d1d30eb9755b13705b143ae74aac66191b095e"
      },
      "cell_type": "code",
      "source": "q2.solution()",
      "execution_count": 4,
      "outputs": [
        {
          "output_type": "display_data",
          "data": {
            "text/plain": "<IPython.core.display.Javascript object>",
            "application/javascript": "parent.postMessage({\"jupyterEvent\": \"custom.exercise_interaction\", \"data\": {\"interactionType\": 3, \"learnTutorialId\": 49, \"questionId\": \"2_StrPoints\", \"learnToolsVersion\": \"0.2.9\", \"valueTowardsCompletion\": 0.0, \"failureMessage\": \"\", \"exceptionClass\": \"\", \"trace\": \"\", \"outcomeType\": 4}}, \"*\")"
          },
          "metadata": {}
        },
        {
          "output_type": "display_data",
          "data": {
            "text/plain": "Solution: \n```python\npoint_strings = reviews.points.astype(str)\n```",
            "text/markdown": "<span style=\"color:#33cc99\">Solution:</span> \n```python\npoint_strings = reviews.points.astype(str)\n```"
          },
          "metadata": {}
        }
      ]
    },
    {
      "metadata": {
        "_uuid": "3c1cce06c49133c6c74c2e6b13342fd2808fd769"
      },
      "cell_type": "markdown",
      "source": "**Exercise 3**: Sometimes the price column is null. How many reviews in the dataset are missing a price?"
    },
    {
      "metadata": {
        "trusted": true,
        "_uuid": "dd2f979bc5147e5c5f2f3f4aa751e17ef178441a"
      },
      "cell_type": "code",
      "source": "missing_price_reviews = reviews[reviews.price.isnull()]\nn_missing_prices = len(missing_price_reviews)\nn_missing_prices = reviews.price.isnull().sum()\nn_missing_prices = pd.isnull(reviews.price).sum()\n\nq3.check()",
      "execution_count": 7,
      "outputs": [
        {
          "output_type": "display_data",
          "data": {
            "text/plain": "<IPython.core.display.Javascript object>",
            "application/javascript": "parent.postMessage({\"jupyterEvent\": \"custom.exercise_interaction\", \"data\": {\"outcomeType\": 1, \"valueTowardsCompletion\": 0.25, \"interactionType\": 1, \"learnTutorialId\": 49, \"questionId\": \"3_CountMissingPrices\", \"learnToolsVersion\": \"0.2.9\", \"failureMessage\": \"\", \"exceptionClass\": \"\", \"trace\": \"\"}}, \"*\")"
          },
          "metadata": {}
        },
        {
          "output_type": "display_data",
          "data": {
            "text/plain": "Correct",
            "text/markdown": "<span style=\"color:#33cc33\">Correct</span>"
          },
          "metadata": {}
        }
      ]
    },
    {
      "metadata": {
        "trusted": true,
        "_uuid": "5842b2a583dd67227ca5f65436191f1e2c65659f",
        "scrolled": false
      },
      "cell_type": "code",
      "source": "q3.solution()",
      "execution_count": 6,
      "outputs": [
        {
          "output_type": "display_data",
          "data": {
            "text/plain": "<IPython.core.display.Javascript object>",
            "application/javascript": "parent.postMessage({\"jupyterEvent\": \"custom.exercise_interaction\", \"data\": {\"interactionType\": 3, \"learnTutorialId\": 49, \"questionId\": \"3_CountMissingPrices\", \"learnToolsVersion\": \"0.2.9\", \"valueTowardsCompletion\": 0.0, \"failureMessage\": \"\", \"exceptionClass\": \"\", \"trace\": \"\", \"outcomeType\": 4}}, \"*\")"
          },
          "metadata": {}
        },
        {
          "output_type": "display_data",
          "data": {
            "text/plain": "Solution: \n```python\nmissing_price_reviews = reviews[reviews.price.isnull()]\nn_missing_prices = len(missing_price_reviews)\n# Cute alternative solution: if we sum a boolean series, True is treated as 1 and False as 0\nn_missing_prices = reviews.price.isnull().sum()\n# or equivalently:\nn_missing_prices = pd.isnull(reviews.price).sum()\n\n```",
            "text/markdown": "<span style=\"color:#33cc99\">Solution:</span> \n```python\nmissing_price_reviews = reviews[reviews.price.isnull()]\nn_missing_prices = len(missing_price_reviews)\n# Cute alternative solution: if we sum a boolean series, True is treated as 1 and False as 0\nn_missing_prices = reviews.price.isnull().sum()\n# or equivalently:\nn_missing_prices = pd.isnull(reviews.price).sum()\n\n```"
          },
          "metadata": {}
        }
      ]
    },
    {
      "metadata": {
        "_uuid": "2b0e3d9fcb0b017a2a4b8665d60219d1b165fbba"
      },
      "cell_type": "markdown",
      "source": "**Exercise 4**: What are the most common wine-producing regions? Create a `Series` counting the number of times each value occurs in the `region_1` field. This field is often missing data, so replace missing values with `Unknown`. Sort in descending order.  Your output should look something like this:\n\n```\nUnknown                    21247\nNapa Valley                 4480\n                           ...  \nBardolino Superiore            1\nPrimitivo del Tarantino        1\nName: region_1, Length: 1230, dtype: int64\n```"
    },
    {
      "metadata": {
        "trusted": true,
        "_uuid": "4d3d45e258189b460aaa98405b77f8cf55a87dc0"
      },
      "cell_type": "code",
      "source": "reviews_per_region = reviews.region_1.fillna('Unknown').value_counts().sort_values(ascending = False)\n\nq4.check()",
      "execution_count": 9,
      "outputs": [
        {
          "output_type": "display_data",
          "data": {
            "text/plain": "<IPython.core.display.Javascript object>",
            "application/javascript": "parent.postMessage({\"jupyterEvent\": \"custom.exercise_interaction\", \"data\": {\"outcomeType\": 1, \"valueTowardsCompletion\": 0.25, \"interactionType\": 1, \"learnTutorialId\": 49, \"questionId\": \"4_ReviewsPerRegion\", \"learnToolsVersion\": \"0.2.9\", \"failureMessage\": \"\", \"exceptionClass\": \"\", \"trace\": \"\"}}, \"*\")"
          },
          "metadata": {}
        },
        {
          "output_type": "display_data",
          "data": {
            "text/plain": "Correct",
            "text/markdown": "<span style=\"color:#33cc33\">Correct</span>"
          },
          "metadata": {}
        }
      ]
    },
    {
      "metadata": {
        "trusted": true,
        "_uuid": "89ad95628c027ed5ab8a75d2c5ac0e3ca23961e5"
      },
      "cell_type": "code",
      "source": "q4.solution()",
      "execution_count": 8,
      "outputs": [
        {
          "output_type": "display_data",
          "data": {
            "text/plain": "<IPython.core.display.Javascript object>",
            "application/javascript": "parent.postMessage({\"jupyterEvent\": \"custom.exercise_interaction\", \"data\": {\"interactionType\": 3, \"learnTutorialId\": 49, \"questionId\": \"4_ReviewsPerRegion\", \"learnToolsVersion\": \"0.2.9\", \"valueTowardsCompletion\": 0.0, \"failureMessage\": \"\", \"exceptionClass\": \"\", \"trace\": \"\", \"outcomeType\": 4}}, \"*\")"
          },
          "metadata": {}
        },
        {
          "output_type": "display_data",
          "data": {
            "text/plain": "Solution: \n```python\nreviews_per_region = reviews.region_1.fillna('Unknown').value_counts().sort_values(ascending=False)\n```",
            "text/markdown": "<span style=\"color:#33cc99\">Solution:</span> \n```python\nreviews_per_region = reviews.region_1.fillna('Unknown').value_counts().sort_values(ascending=False)\n```"
          },
          "metadata": {}
        }
      ]
    },
    {
      "metadata": {
        "_uuid": "28defe47856540afab93097f9446005fa3e9e422"
      },
      "cell_type": "markdown",
      "source": "# Keep going\nMove on to the [**Renaming and combining workbook**](https://www.kaggle.com/kernels/fork/598826)"
    }
  ],
  "metadata": {
    "kernelspec": {
      "display_name": "Python 3",
      "language": "python",
      "name": "python3"
    },
    "language_info": {
      "name": "python",
      "version": "3.6.6",
      "mimetype": "text/x-python",
      "codemirror_mode": {
        "name": "ipython",
        "version": 3
      },
      "pygments_lexer": "ipython3",
      "nbconvert_exporter": "python",
      "file_extension": ".py"
    }
  },
  "nbformat": 4,
  "nbformat_minor": 1
}
