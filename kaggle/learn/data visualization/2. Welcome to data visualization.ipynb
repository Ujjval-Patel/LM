{
  "cells": [
    {
      "metadata": {
        "_cell_guid": "db873c85-28d4-42bc-a779-84bb7763d24d",
        "_uuid": "e6771b57022df4ea87adb58395cfb2748978166a"
      },
      "cell_type": "markdown",
      "source": "# Univariate plotting with pandas\n\n<table>\n<tr>\n<td><img src=\"https://i.imgur.com/skaZPhb.png\" width=\"350px\"/></td>\n<td><img src=\"https://i.imgur.com/gaNttYd.png\" width=\"350px\"/></td>\n<td><img src=\"https://i.imgur.com/pampioh.png\"/></td>\n<td><img src=\"https://i.imgur.com/OSbuszd.png\"/></td>\n\n<!--<td><img src=\"https://i.imgur.com/ydaMhT1.png\" width=\"350px\"/></td>\n<td><img src=\"https://i.imgur.com/WLAqDSV.png\" width=\"350px\"/></td>\n<td><img src=\"https://i.imgur.com/Tj2y9gH.png\"/></td>\n<td><img src=\"https://i.imgur.com/X0qXLCu.png\"/></td>-->\n</tr>\n<tr>\n<td style=\"font-weight:bold; font-size:16px;\">Bar Chat</td>\n<td style=\"font-weight:bold; font-size:16px;\">Line Chart</td>\n<td style=\"font-weight:bold; font-size:16px;\">Area Chart</td>\n<td style=\"font-weight:bold; font-size:16px;\">Histogram</td>\n</tr>\n<tr>\n<td>df.plot.bar()</td>\n<td>df.plot.line()</td>\n<td>df.plot.area()</td>\n<td>df.plot.hist()</td>\n</tr>\n<tr>\n<td>Good for nominal and small ordinal categorical data.</td>\n<td>\tGood for ordinal categorical and interval data.</td>\n<td>Good for ordinal categorical and interval data.</td>\n<td>Good for interval data.</td>\n</tr>\n</table>\n\n----\n\nThe `pandas` library is the core library for Python data analysis: the \"killer feature\" that makes the entire ecosystem stick together. However, it can do more than load and transform your data: it can visualize it too! Indeed, the easy-to-use and expressive pandas plotting API is a big part of `pandas` popularity.\n\nIn this section we will learn the basic `pandas` plotting facilities, starting with the simplest type of visualization: single-variable or \"univariate\" visualizations. This includes basic tools like bar plots and line charts. Through these we'll get an understanding of `pandas` plotting library structure, and spend some time examining data types."
    },
    {
      "metadata": {
        "_cell_guid": "572b9ceb-6d85-4a64-bc81-f8cb9cd46398",
        "_uuid": "59171533b53fcf7b59725f1b8b12d0a31688b4d2",
        "trusted": true
      },
      "cell_type": "code",
      "source": "import pandas as pd\nreviews = pd.read_csv(\"../input/wine-reviews/winemag-data_first150k.csv\", index_col=0)\nreviews.head(3)",
      "execution_count": 1,
      "outputs": [
        {
          "output_type": "execute_result",
          "execution_count": 1,
          "data": {
            "text/plain": "  country           ...                              winery\n0      US           ...                               Heitz\n1   Spain           ...             Bodega Carmen Rodríguez\n2      US           ...                            Macauley\n\n[3 rows x 10 columns]",
            "text/html": "<div>\n<style scoped>\n    .dataframe tbody tr th:only-of-type {\n        vertical-align: middle;\n    }\n\n    .dataframe tbody tr th {\n        vertical-align: top;\n    }\n\n    .dataframe thead th {\n        text-align: right;\n    }\n</style>\n<table border=\"1\" class=\"dataframe\">\n  <thead>\n    <tr style=\"text-align: right;\">\n      <th></th>\n      <th>country</th>\n      <th>description</th>\n      <th>designation</th>\n      <th>points</th>\n      <th>price</th>\n      <th>province</th>\n      <th>region_1</th>\n      <th>region_2</th>\n      <th>variety</th>\n      <th>winery</th>\n    </tr>\n  </thead>\n  <tbody>\n    <tr>\n      <th>0</th>\n      <td>US</td>\n      <td>This tremendous 100% varietal wine hails from ...</td>\n      <td>Martha's Vineyard</td>\n      <td>96</td>\n      <td>235.0</td>\n      <td>California</td>\n      <td>Napa Valley</td>\n      <td>Napa</td>\n      <td>Cabernet Sauvignon</td>\n      <td>Heitz</td>\n    </tr>\n    <tr>\n      <th>1</th>\n      <td>Spain</td>\n      <td>Ripe aromas of fig, blackberry and cassis are ...</td>\n      <td>Carodorum Selección Especial Reserva</td>\n      <td>96</td>\n      <td>110.0</td>\n      <td>Northern Spain</td>\n      <td>Toro</td>\n      <td>NaN</td>\n      <td>Tinta de Toro</td>\n      <td>Bodega Carmen Rodríguez</td>\n    </tr>\n    <tr>\n      <th>2</th>\n      <td>US</td>\n      <td>Mac Watson honors the memory of a wine once ma...</td>\n      <td>Special Selected Late Harvest</td>\n      <td>96</td>\n      <td>90.0</td>\n      <td>California</td>\n      <td>Knights Valley</td>\n      <td>Sonoma</td>\n      <td>Sauvignon Blanc</td>\n      <td>Macauley</td>\n    </tr>\n  </tbody>\n</table>\n</div>"
          },
          "metadata": {}
        }
      ]
    },
    {
      "metadata": {
        "_cell_guid": "0ff0e045-9d85-4120-a51e-8bdba125c45f",
        "_uuid": "41332402f0d7d1a76cb93f17fabc238a4e99ca21"
      },
      "cell_type": "markdown",
      "source": "## Bar charts and categorical data\n\nBar charts are arguably the simplest data visualization. They map categories to numbers: the amount of eggs consumed for breakfast (a category) to a number breakfast-eating Americans, for example; or, in our case, wine-producing provinces of the world (category) to the number of labels of wines they produce (number):"
    },
    {
      "metadata": {
        "_cell_guid": "09f87ff1-9742-43ea-ac23-105d848100b8",
        "_uuid": "21b19b59eb6f9161eb93655567c1b7bb69f865ed",
        "trusted": true
      },
      "cell_type": "code",
      "source": "#reviews['province'].value_counts().head(10).plot.bar()\nreviews['province'].value_counts().head(10).plot.bar()",
      "execution_count": 11,
      "outputs": [
        {
          "output_type": "execute_result",
          "execution_count": 11,
          "data": {
            "text/plain": "<matplotlib.axes._subplots.AxesSubplot at 0x7f88a5003908>"
          },
          "metadata": {}
        },
        {
          "output_type": "display_data",
          "data": {
            "text/plain": "<Figure size 432x288 with 1 Axes>",
            "image/png": "[encoded data removed]"
          },
          "metadata": {}
        }
      ]
    },
    {
      "metadata": {
        "_cell_guid": "8592d9ae-7282-4106-ba82-c50ebc3f3866",
        "_uuid": "d8acc281621e8fe8e5cafdc4cb7d22f1c394630d"
      },
      "cell_type": "markdown",
      "source": "What does this plot tell us? It says California produces far more wine than any other province of the world! We might ask what percent of the total is Californian vintage? This bar chart tells us absolute numbers, but it's more useful to know relative proportions. No problem:"
    },
    {
      "metadata": {
        "_cell_guid": "c28ea90f-6b11-437c-8c66-cd9a6ab2906c",
        "_uuid": "f7d1ce10e4be0430c40c737fa4389173c251e550",
        "trusted": true
      },
      "cell_type": "code",
      "source": "(reviews['province'].value_counts().head(10) / len(reviews)).plot.bar()",
      "execution_count": 12,
      "outputs": [
        {
          "output_type": "execute_result",
          "execution_count": 12,
          "data": {
            "text/plain": "<matplotlib.axes._subplots.AxesSubplot at 0x7f88d465b978>"
          },
          "metadata": {}
        },
        {
          "output_type": "display_data",
          "data": {
            "text/plain": "<Figure size 432x288 with 1 Axes>",
            "image/png": "[encoded data removed]"
          },
          "metadata": {}
        }
      ]
    },
    {
      "metadata": {
        "_cell_guid": "75b49b81-e79c-43f5-a082-a50957003a71",
        "_uuid": "8a8d5956b6660e838343312da7d4b4b19b04ff80"
      },
      "cell_type": "markdown",
      "source": "California produces almost a third of wines reviewed in Wine Magazine!\n\nBar charts are very flexible: The height can represent anything, as long as it is a number. And each bar can represent anything, as long as it is a category.\n\nIn this case the categories are **nominal categories**: \"pure\" categories that don't make a lot of sense to order. Nominal categorical variables include things like countries, ZIP codes, types of cheese, and lunar landers. The other kind are **ordinal categories**: things that do make sense to compare, like earthquake magnitudes, housing complexes with certain numbers of apartments, and the sizes of bags of chips at your local deli.\n\nOr, in our case, the number of reviews of a certain score allotted by Wine Magazine:"
    },
    {
      "metadata": {
        "_cell_guid": "d75758cd-08d2-4982-a542-0d69c6719a12",
        "_uuid": "c5023d32644a97e4ae5ac2f778e482436c3bc944",
        "trusted": true
      },
      "cell_type": "code",
      "source": "reviews['points'].value_counts().sort_index().plot.bar()",
      "execution_count": 13,
      "outputs": [
        {
          "output_type": "execute_result",
          "execution_count": 13,
          "data": {
            "text/plain": "<matplotlib.axes._subplots.AxesSubplot at 0x7f88a508b400>"
          },
          "metadata": {}
        },
        {
          "output_type": "display_data",
          "data": {
            "text/plain": "<Figure size 432x288 with 1 Axes>",
            "image/png": "[encoded data removed]"
          },
          "metadata": {}
        }
      ]
    },
    {
      "metadata": {
        "_cell_guid": "12c8e556-f4d8-4c05-bf00-9bd5cea6dac2",
        "_uuid": "d2682d373d7f52173ef04ef44a051c42c46a93f9"
      },
      "cell_type": "markdown",
      "source": "As you can see, every vintage is allotted an overall score between 80 and 100; and, if we are to believe that Wine Magazine is an arbiter of good taste, then a 92 is somehow meaningfully \"better\" than a 91."
    },
    {
      "metadata": {
        "_cell_guid": "458bf34e-29ca-4e60-b5ec-ca917b45af39",
        "_uuid": "15733eda442c4c818ec6b2eb6f9e0a15de85f10b"
      },
      "cell_type": "markdown",
      "source": "## Line charts\n\nThe wine review scorecard has 20 different unique values to fill, for which our bar chart is just barely enough. What would we do if the magazine rated things 0-100? We'd have 100 different categories; simply too many to fit a bar in for each one!\n\nIn that case, instead of bar chart, we could use a line chart:"
    },
    {
      "metadata": {
        "_cell_guid": "289dab16-4ed4-4e91-8abb-6f92d176a48d",
        "_uuid": "1b056bfc78b0a70a6178463a74dea4f62a547ff6",
        "trusted": true
      },
      "cell_type": "code",
      "source": "reviews['points'].value_counts().sort_index().plot.line()",
      "execution_count": 14,
      "outputs": [
        {
          "output_type": "execute_result",
          "execution_count": 14,
          "data": {
            "text/plain": "<matplotlib.axes._subplots.AxesSubplot at 0x7f88acfa4ac8>"
          },
          "metadata": {}
        },
        {
          "output_type": "display_data",
          "data": {
            "text/plain": "<Figure size 432x288 with 1 Axes>",
            "image/png": "[encoded data removed]"
          },
          "metadata": {}
        }
      ]
    },
    {
      "metadata": {
        "_cell_guid": "4f3e118a-a4d8-4975-bdd0-28476f1dba76",
        "_uuid": "ee5416417f8e486a6461530ff7ca1fc083d6f4fa"
      },
      "cell_type": "markdown",
      "source": "A line chart can pass over any number of many individual values, making it the tool of first choice for distributions with many unique values or categories.\n\nHowever, line charts have an important weakness: unlike bar charts, they're not appropriate for nominal categorical data. While bar charts distinguish between every \"type\" of point line charts mushes them together. So a line chart asserts an order to the values on the horizontal axis, and the order won’t make sense with some data. After all, a \"descent\" from California to Washington to Tuscany doesn't mean much!\n\nLine charts also make it harder to distinguish between individual values.\n\n**In general, if your data can fit into a bar chart, just use a bar chart!**"
    },
    {
      "metadata": {
        "_cell_guid": "b1cc4eb7-9858-497a-a2d7-9fad4d2d09ab",
        "_uuid": "e4fd2dabe2eacac899c0268a3c0e3ebf55d0b8f7"
      },
      "cell_type": "markdown",
      "source": "## Quick break: bar or line\n\nLet's do a quick exercise. Suppose that we're interested in counting the following variables:\n\n1. The number of tubs of ice cream purchased by flavor, given that there are 5 different flavors.\n2. The average number of cars purchased from American car manufacturers in Michigan.\n3. Test scores given to students by teachers at a college, on a 0-100 scale.\n4. The number of restaurants located on the street by the name of the street in Lower Manhattan.\n\nFor which of these would a bar chart be better? Which ones would be better off with a line?\n\nTo see the answer, click the \"Output\" button on the code block below."
    },
    {
      "metadata": {
        "_kg_hide-output": true,
        "_kg_hide-input": true,
        "_cell_guid": "78987153-80f6-4871-bfbe-99fe44bf719e",
        "_uuid": "ce2a9ba5a3d813fbea8783ffb25b85b0d6f0d6bd",
        "trusted": true
      },
      "cell_type": "code",
      "source": "raw = \"\"\"\n<ol>\n<li>This is a simple nominal categorical variable. Five bars will fit easily into a display, so a bar chart will do!</li>\n<br/>\n<li>This example is similar: nominal categorical variables. There are probably more than five American car manufacturers, so the chart will be a little more crowded, but a bar chart will still do it.</li>\n<br/>\n<li>This is an ordinal categorical variable. We have a lot of potential values between 0 and 100, so a bar chart won't have enough room. A line chart is better.</li>\n<br/>\n<li>\n<p>Number 4 is a lot harder. City streets are obviously ordinary categorical variables, so we *ought* to use a bar chart; but there are a lot of streets out there! We couldn't possibly fit all of them into a display.</p>\n<p>Sometimes, your data will have too many points to do something \"neatly\", and that's OK. If you organize the data by value count and plot a line chart over that, you'll learn valuable information about *percentiles*: that a street in the 90th percentile has 20 restaurants, for example, or one in the 50th just 6. This is basically a form of aggregation: we've turned streets into percentiles!</p> \n<p>The lesson: your *interpretation* of the data is more important than the tool that you use.</p></li>\n</ol>\n\"\"\"\n\nfrom IPython.display import HTML\nHTML(raw)",
      "execution_count": 15,
      "outputs": [
        {
          "output_type": "execute_result",
          "execution_count": 15,
          "data": {
            "text/plain": "<IPython.core.display.HTML object>",
            "text/html": "\n<ol>\n<li>This is a simple nominal categorical variable. Five bars will fit easily into a display, so a bar chart will do!</li>\n<br/>\n<li>This example is similar: nominal categorical variables. There are probably more than five American car manufacturers, so the chart will be a little more crowded, but a bar chart will still do it.</li>\n<br/>\n<li>This is an ordinal categorical variable. We have a lot of potential values between 0 and 100, so a bar chart won't have enough room. A line chart is better.</li>\n<br/>\n<li>\n<p>Number 4 is a lot harder. City streets are obviously ordinary categorical variables, so we *ought* to use a bar chart; but there are a lot of streets out there! We couldn't possibly fit all of them into a display.</p>\n<p>Sometimes, your data will have too many points to do something \"neatly\", and that's OK. If you organize the data by value count and plot a line chart over that, you'll learn valuable information about *percentiles*: that a street in the 90th percentile has 20 restaurants, for example, or one in the 50th just 6. This is basically a form of aggregation: we've turned streets into percentiles!</p> \n<p>The lesson: your *interpretation* of the data is more important than the tool that you use.</p></li>\n</ol>\n"
          },
          "metadata": {}
        }
      ]
    },
    {
      "metadata": {
        "_cell_guid": "7be0a9b3-3437-4f0f-8a9a-3fc5557114d8",
        "_uuid": "7761ccf7027a4af865154018bfb73c128c0de8af"
      },
      "cell_type": "markdown",
      "source": "## Area charts\n\nArea charts are just line charts, but with the bottom shaded in. That's it!"
    },
    {
      "metadata": {
        "_cell_guid": "c8e00ae9-e36e-414b-a562-9ae11b2145b8",
        "_uuid": "29230c6f8fc9d664aa0d37cc75d9c3fc8e0ac8d5",
        "trusted": false
      },
      "cell_type": "code",
      "source": "reviews['points'].value_counts().sort_index().plot.area()",
      "execution_count": null,
      "outputs": []
    },
    {
      "metadata": {
        "_cell_guid": "811f6551-cd81-43dc-82ae-26f95a5996c4",
        "_uuid": "e22b8c1e65a1d2ea0cf18962a61c020764569570"
      },
      "cell_type": "markdown",
      "source": "When plotting only one variable, the difference between an area chart and a line chart is mostly visual. In this context, they can be used interchangably."
    },
    {
      "metadata": {
        "_cell_guid": "d635138c-e23e-472a-a495-59bac6d077ef",
        "_uuid": "3ffe5195d7374af2c1533ace76eba90cd140a00a"
      },
      "cell_type": "markdown",
      "source": "## Interval data\n\nLet's move on by looking at yet another type of data, an **interval variable**.\n\nExamples of interval variables are the wind speed in a hurricane, shear strength in concrete, and the temperature of the sun. An interval variable goes beyond an ordinal categorical variable: it has a *meaningful* order, in the sense that we can quantify what the difference between two entries is itself an interval variable.\n\nFor example, if I say that this sample of water is -20 degrees Celcius, and this other sample is 120 degrees Celcius, then I can quantify the difference between them: 140 degrees \"worth\" of heat, or such-and-such many joules of energy.\n\nThe difference can be qualitative sometimes. At a minimum, being able to state something so clearly feels a lot more \"measured\" than, say, saying you'll buy this wine and not that one, because this one scored a 92 on some taste test and that one only got an 85. More definitively, any variable that has infinitely many possible values is definitely an interval variable (why not 120.1 degrees? 120.001? 120.0000000001? Etc).\n\nLine charts work well for interval data. Bar charts don't—unless your ability to measure it is very limited, interval data will naturally vary by quite a lot.\n\nLet's apply a new tool, the histogram, to an interval variable in our dataset, price (we'll cut price off at 200$ a bottle; more on why shortly)."
    },
    {
      "metadata": {
        "_cell_guid": "c8dbf164-a024-47c6-b0e7-5b1109f815a0",
        "_uuid": "4ebe0e7312ed0a8c3d58f9740148de43843cbb16"
      },
      "cell_type": "markdown",
      "source": "## Histograms\n\nHere's a histogram:"
    },
    {
      "metadata": {
        "_cell_guid": "4cd3fac2-0eeb-4519-8d66-348c0994b3d3",
        "_uuid": "489e41a20bb5ecbbf29fb02f912fc74bc0dd0c66",
        "trusted": true,
        "scrolled": true
      },
      "cell_type": "code",
      "source": "reviews[reviews['price'] < 200]['price'].plot.hist()",
      "execution_count": 16,
      "outputs": [
        {
          "output_type": "execute_result",
          "execution_count": 16,
          "data": {
            "text/plain": "<matplotlib.axes._subplots.AxesSubplot at 0x7f88d44bf4e0>"
          },
          "metadata": {}
        },
        {
          "output_type": "display_data",
          "data": {
            "text/plain": "<Figure size 432x288 with 1 Axes>",
            "image/png": "[encoded data removed]"
          },
          "metadata": {}
        }
      ]
    },
    {
      "metadata": {
        "_cell_guid": "03058fba-c1ec-4263-97e0-ac2500f604d3",
        "_uuid": "747d3a4ab5b14ce8a86c41d6086b3f3453052e2a"
      },
      "cell_type": "markdown",
      "source": "A histogram looks, trivially, like a bar plot. And it basically is! In fact, a histogram is special kind of bar plot that splits your data into even intervals and displays how many rows are in each interval with bars. The only analytical difference is that instead of each bar representing a single value, it represents a range of values.\n\nHowever, histograms have one major shortcoming (the reason for our 200$ caveat earlier). Because they break space up into even intervals, they don't deal very well with skewed data:"
    },
    {
      "metadata": {
        "_cell_guid": "5244e485-8422-4fac-ae99-79a960a5384e",
        "_uuid": "200656f998c0a73ff57ca5e0a41991ed7ce67e8a",
        "trusted": true
      },
      "cell_type": "code",
      "source": "reviews['price'].plot.hist()",
      "execution_count": 17,
      "outputs": [
        {
          "output_type": "execute_result",
          "execution_count": 17,
          "data": {
            "text/plain": "<matplotlib.axes._subplots.AxesSubplot at 0x7f88d4484390>"
          },
          "metadata": {}
        },
        {
          "output_type": "display_data",
          "data": {
            "text/plain": "<Figure size 432x288 with 1 Axes>",
            "image/png": "[encoded data removed]"
          },
          "metadata": {}
        }
      ]
    },
    {
      "metadata": {
        "_cell_guid": "2ef00e66-c62d-433a-a84d-a943bb6a8663",
        "_uuid": "69bcae9e70a4c68abf4c8ab55f4345ebb3772dce"
      },
      "cell_type": "markdown",
      "source": "This is the real reason I excluded the >$200 bottles earlier; some of these vintages are really expensive! And the chart will \"grow\" to include them, to the detriment of the rest of the data being shown."
    },
    {
      "metadata": {
        "_cell_guid": "fd895cd5-7918-4890-a7cf-16a47383a13c",
        "_uuid": "5793b0af9799a040800a3e204066234e2172b22e",
        "trusted": true
      },
      "cell_type": "code",
      "source": "reviews[reviews['price'] > 1500]",
      "execution_count": 18,
      "outputs": [
        {
          "output_type": "execute_result",
          "execution_count": 18,
          "data": {
            "text/plain": "      country       ...                  winery\n13318      US       ...                   Blair\n34920  France       ...          Château Latour\n34922  France       ...         Château Margaux\n\n[3 rows x 10 columns]",
            "text/html": "<div>\n<style scoped>\n    .dataframe tbody tr th:only-of-type {\n        vertical-align: middle;\n    }\n\n    .dataframe tbody tr th {\n        vertical-align: top;\n    }\n\n    .dataframe thead th {\n        text-align: right;\n    }\n</style>\n<table border=\"1\" class=\"dataframe\">\n  <thead>\n    <tr style=\"text-align: right;\">\n      <th></th>\n      <th>country</th>\n      <th>description</th>\n      <th>designation</th>\n      <th>points</th>\n      <th>price</th>\n      <th>province</th>\n      <th>region_1</th>\n      <th>region_2</th>\n      <th>variety</th>\n      <th>winery</th>\n    </tr>\n  </thead>\n  <tbody>\n    <tr>\n      <th>13318</th>\n      <td>US</td>\n      <td>The nose on this single-vineyard wine from a s...</td>\n      <td>Roger Rose Vineyard</td>\n      <td>91</td>\n      <td>2013.0</td>\n      <td>California</td>\n      <td>Arroyo Seco</td>\n      <td>Central Coast</td>\n      <td>Chardonnay</td>\n      <td>Blair</td>\n    </tr>\n    <tr>\n      <th>34920</th>\n      <td>France</td>\n      <td>A big, powerful wine that sums up the richness...</td>\n      <td>NaN</td>\n      <td>99</td>\n      <td>2300.0</td>\n      <td>Bordeaux</td>\n      <td>Pauillac</td>\n      <td>NaN</td>\n      <td>Bordeaux-style Red Blend</td>\n      <td>Château Latour</td>\n    </tr>\n    <tr>\n      <th>34922</th>\n      <td>France</td>\n      <td>A massive wine for Margaux, packed with tannin...</td>\n      <td>NaN</td>\n      <td>98</td>\n      <td>1900.0</td>\n      <td>Bordeaux</td>\n      <td>Margaux</td>\n      <td>NaN</td>\n      <td>Bordeaux-style Red Blend</td>\n      <td>Château Margaux</td>\n    </tr>\n  </tbody>\n</table>\n</div>"
          },
          "metadata": {}
        }
      ]
    },
    {
      "metadata": {
        "_cell_guid": "a5454d35-c2c5-4bd2-b26b-0d7e35ac6017",
        "_uuid": "243ee891095adcef6041c1ebdae1617ae89188b2"
      },
      "cell_type": "markdown",
      "source": "There are many ways of dealing with the skewed data problem; those are outside the scope of this tutorial. The easiest is to just do what I did: cut things off at a sensible level.\n\nThis phenomenon is known (statistically) as **skew**, and it's a fairly common occurance among interval variables.\n\nHistograms work best for interval variables without skew. They also work really well for ordinal categorical variables like `points`:"
    },
    {
      "metadata": {
        "_cell_guid": "cc0d2d1e-0a1d-49e5-8636-6b41bc3b3a05",
        "_uuid": "2a145207771c771412787ac08b3e7415ab664fa0",
        "trusted": false
      },
      "cell_type": "code",
      "source": "reviews['points'].plot.hist()",
      "execution_count": null,
      "outputs": []
    },
    {
      "metadata": {
        "_cell_guid": "6a39a9cd-df1f-409c-9074-d1a93795076b",
        "_uuid": "1e06cb366574638bac602421637b00a0a98993e1"
      },
      "cell_type": "markdown",
      "source": "## Exercise: bar, line/area, or histogram?\n\nLet's do another exercise. What would the best chart type be for:\n\n1. The volume of apples picked at an orchard based on the type of apple (Granny Smith, Fuji, etcetera).\n2. The number of points won in all basketball games in a season.\n3. The count of apartment buildings in Chicago by the number of individual units.\n\nTo see the answer, click the \"Output\" button on the code block below."
    },
    {
      "metadata": {
        "_kg_hide-output": true,
        "_kg_hide-input": true,
        "_cell_guid": "3b9e81b2-1e83-4c5b-857e-b047e3f684c8",
        "_uuid": "eea8cc2d8bfc1509536b0e3070150c24c28ffe52",
        "trusted": false
      },
      "cell_type": "code",
      "source": "raw = \"\"\"\n<ol>\n<li>Example number 1 is a nominal categorical example, and hence, a pretty straightfoward bar graph target.</li>\n<br/>\n<li>Example 2 is a large nominal categorical variable. A basketball game team can score between 50 and 150 points, too much for a bar chart; a line chart is a good way to go. A histogram could also work.</li>\n<br/>\n<li>Example 3 is an interval variable: a single building can have anywhere between 1 and 1000 or more apartment units. A line chart could work, but a histogram would probably work better! Note that this distribution is going to have a lot of skew (there is only a handful of very, very large apartment buildings).</li>\n</ol>\n\"\"\"\n\nfrom IPython.display import HTML\nHTML(raw)",
      "execution_count": null,
      "outputs": []
    },
    {
      "metadata": {
        "_cell_guid": "fbf53981-2e97-4cc3-ad2c-8522e6de477f",
        "_uuid": "e6bacabdce49cbf740f87499534cea10ecd89d86"
      },
      "cell_type": "markdown",
      "source": "## Conclusion and exercise\n\nIn this section of the tutorial we learned about the handful of different kinds of data, and looked at some of the built-in tools that `pandas` provides us for plotting them.\n\nNow it's your turn!\n\nFor these exercises, we'll be working with the Pokemon dataset (because what goes together better than wine and Pokemon?)."
    },
    {
      "metadata": {
        "_cell_guid": "185dd634-2ff7-41d5-9025-5875bfaa4c9d",
        "_uuid": "1a9d0a5d006b6845600e14396933258c31465f90",
        "trusted": false
      },
      "cell_type": "code",
      "source": "pd.set_option('max_columns', None)\npokemon = pd.read_csv(\"../input/pokemon/pokemon.csv\")\npokemon.head(3)",
      "execution_count": null,
      "outputs": []
    },
    {
      "metadata": {
        "_cell_guid": "1928da89-2759-423f-b281-95b76be193bb",
        "_uuid": "9c11ab74f6fa6f99662d303cb5fcaea9fd6a8b1e"
      },
      "cell_type": "markdown",
      "source": "Try forking this kernel, and see if you can replicate the following plots. To see the answers, click the \"Code\" button to unhide the code and see the answers."
    },
    {
      "metadata": {
        "_cell_guid": "1d86595c-2a24-4aba-8567-f1256e35ccbf",
        "_uuid": "ebf442d35fa1de66b43956db739ad426fc740933"
      },
      "cell_type": "markdown",
      "source": "The frequency of Pokemon by type:"
    },
    {
      "metadata": {
        "_kg_hide-input": true,
        "_cell_guid": "54144bd1-bfc9-4ae0-8036-b5b73ce31f5e",
        "_uuid": "7f5f07645791f33cfbca0ecce8c2c19a0199f6da",
        "trusted": false
      },
      "cell_type": "code",
      "source": "pokemon['type1'].value_counts().plot.bar()",
      "execution_count": null,
      "outputs": []
    },
    {
      "metadata": {
        "_cell_guid": "4ffd92d7-9b72-4a67-92fd-d9d34ecc96a8",
        "_uuid": "275c2b969804ab77a8ae07e2d2f9488ec81f9006"
      },
      "cell_type": "markdown",
      "source": "The frequency of Pokemon by HP stat total:"
    },
    {
      "metadata": {
        "_kg_hide-input": true,
        "_cell_guid": "be7eabc3-20b7-4239-8334-4b537dbd1b39",
        "_uuid": "53b333f515ce8c4a0dd19d53e7f86ad190003a37",
        "trusted": false
      },
      "cell_type": "code",
      "source": "pokemon['hp'].value_counts().sort_index().plot.line()",
      "execution_count": null,
      "outputs": []
    },
    {
      "metadata": {
        "_cell_guid": "87854b5d-933d-4909-b292-425e0cbf09a8",
        "_uuid": "0f5ce4fefd0744944a06c60017752974f61639c8"
      },
      "cell_type": "markdown",
      "source": "The frequency of Pokemon by weight:"
    },
    {
      "metadata": {
        "_kg_hide-input": true,
        "_cell_guid": "5de70ca3-e30f-40fa-b459-1b9412fd4956",
        "_uuid": "1ad5baabdb33c46b3c8dede8af09a22d39c0fecd",
        "trusted": false
      },
      "cell_type": "code",
      "source": "pokemon['weight_kg'].plot.hist()",
      "execution_count": null,
      "outputs": []
    },
    {
      "metadata": {
        "_cell_guid": "7986f1e4-8407-4524-82af-fed1b2737867",
        "_uuid": "b00c20e0f90e55ceb8511762abed2dcaf4d93043"
      },
      "cell_type": "markdown",
      "source": "[Click here to move on to \"Bivariate plotting with pandas\"](https://www.kaggle.com/residentmario/bivariate-plotting-with-pandas/).\n\nYou may also want to take a look at [the addendum on pie charts](https://www.kaggle.com/residentmario/data-visualization-addendum-pie-charts/)."
    }
  ],
  "metadata": {
    "language_info": {
      "name": "python",
      "version": "3.6.6",
      "mimetype": "text/x-python",
      "codemirror_mode": {
        "name": "ipython",
        "version": 3
      },
      "pygments_lexer": "ipython3",
      "nbconvert_exporter": "python",
      "file_extension": ".py"
    },
    "kernelspec": {
      "display_name": "Python 3",
      "language": "python",
      "name": "python3"
    }
  },
  "nbformat": 4,
  "nbformat_minor": 1
}
